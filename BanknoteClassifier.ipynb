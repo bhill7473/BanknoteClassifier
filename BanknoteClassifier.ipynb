{
 "cells": [
  {
   "cell_type": "code",
   "execution_count": 1,
   "metadata": {},
   "outputs": [
    {
     "data": {
      "text/plain": [
       "'2.1.6-tf'"
      ]
     },
     "execution_count": 1,
     "metadata": {},
     "output_type": "execute_result"
    }
   ],
   "source": [
    "import numpy as np\n",
    "import pandas as pd\n",
    "\n",
    "import tensorflow\n",
    "tensorflow.keras.__version__"
   ]
  },
  {
   "cell_type": "code",
   "execution_count": 4,
   "metadata": {},
   "outputs": [
    {
     "data": {
      "text/html": [
       "<div>\n",
       "<style scoped>\n",
       "    .dataframe tbody tr th:only-of-type {\n",
       "        vertical-align: middle;\n",
       "    }\n",
       "\n",
       "    .dataframe tbody tr th {\n",
       "        vertical-align: top;\n",
       "    }\n",
       "\n",
       "    .dataframe thead th {\n",
       "        text-align: right;\n",
       "    }\n",
       "</style>\n",
       "<table border=\"1\" class=\"dataframe\">\n",
       "  <thead>\n",
       "    <tr style=\"text-align: right;\">\n",
       "      <th></th>\n",
       "      <th>variance_WT</th>\n",
       "      <th>skewness_WT</th>\n",
       "      <th>curtosis_WT</th>\n",
       "      <th>entropy_image</th>\n",
       "      <th>Class</th>\n",
       "    </tr>\n",
       "  </thead>\n",
       "  <tbody>\n",
       "    <tr>\n",
       "      <th>0</th>\n",
       "      <td>3.62160</td>\n",
       "      <td>8.6661</td>\n",
       "      <td>-2.8073</td>\n",
       "      <td>-0.44699</td>\n",
       "      <td>0</td>\n",
       "    </tr>\n",
       "    <tr>\n",
       "      <th>1</th>\n",
       "      <td>4.54590</td>\n",
       "      <td>8.1674</td>\n",
       "      <td>-2.4586</td>\n",
       "      <td>-1.46210</td>\n",
       "      <td>0</td>\n",
       "    </tr>\n",
       "    <tr>\n",
       "      <th>2</th>\n",
       "      <td>3.86600</td>\n",
       "      <td>-2.6383</td>\n",
       "      <td>1.9242</td>\n",
       "      <td>0.10645</td>\n",
       "      <td>0</td>\n",
       "    </tr>\n",
       "    <tr>\n",
       "      <th>3</th>\n",
       "      <td>3.45660</td>\n",
       "      <td>9.5228</td>\n",
       "      <td>-4.0112</td>\n",
       "      <td>-3.59440</td>\n",
       "      <td>0</td>\n",
       "    </tr>\n",
       "    <tr>\n",
       "      <th>4</th>\n",
       "      <td>0.32924</td>\n",
       "      <td>-4.4552</td>\n",
       "      <td>4.5718</td>\n",
       "      <td>-0.98880</td>\n",
       "      <td>0</td>\n",
       "    </tr>\n",
       "  </tbody>\n",
       "</table>\n",
       "</div>"
      ],
      "text/plain": [
       "   variance_WT  skewness_WT  curtosis_WT  entropy_image  Class\n",
       "0      3.62160       8.6661      -2.8073       -0.44699      0\n",
       "1      4.54590       8.1674      -2.4586       -1.46210      0\n",
       "2      3.86600      -2.6383       1.9242        0.10645      0\n",
       "3      3.45660       9.5228      -4.0112       -3.59440      0\n",
       "4      0.32924      -4.4552       4.5718       -0.98880      0"
      ]
     },
     "execution_count": 4,
     "metadata": {},
     "output_type": "execute_result"
    }
   ],
   "source": [
    "#Bank Note Data \n",
    "# This data set is used to predict if a bank note is real or fake.\n",
    "# Here is linkto source of data. https://archive.ics.uci.edu/ml/datasets/banknote+authentication\n",
    "#Column Key\n",
    "#1. variance of Wavelet Transformed image (continuous) \n",
    "# 2. skewness of Wavelet Transformed image (continuous) \n",
    "# 3. curtosis of Wavelet Transformed image (continuous) \n",
    "# 4. entropy of image (continuous) \n",
    "# 5. class (integer)\n",
    "\n",
    "data_df = pd.read_csv('Data/banknotedata.csv')\n",
    "\n",
    "data_df.head()"
   ]
  },
  {
   "cell_type": "code",
   "execution_count": 5,
   "metadata": {},
   "outputs": [
    {
     "name": "stdout",
     "output_type": "stream",
     "text": [
      "(1372, 4) (1372,)\n"
     ]
    }
   ],
   "source": [
    "#Seperate features and class column for model\n",
    "X = data_df.drop(\"Class\", axis=1)\n",
    "y = data_df[\"Class\"]\n",
    "print(X.shape, y.shape)"
   ]
  },
  {
   "cell_type": "code",
   "execution_count": 33,
   "metadata": {},
   "outputs": [],
   "source": [
    "from sklearn.model_selection import train_test_split\n",
    "from sklearn.preprocessing import MinMaxScaler, LabelEncoder\n",
    "\n",
    "#Split training and testing data\n",
    "\n",
    "X_train, X_test, y_train, y_test = train_test_split(X, y, random_state=1, stratify=y)"
   ]
  },
  {
   "cell_type": "code",
   "execution_count": 34,
   "metadata": {},
   "outputs": [],
   "source": [
    "#Scale data\n",
    "X_scaler = MinMaxScaler().fit(X_train)\n",
    "X_train_scaled = X_scaler.transform(X_train)\n",
    "X_test_scaled = X_scaler.transform(X_test)"
   ]
  },
  {
   "cell_type": "code",
   "execution_count": 35,
   "metadata": {},
   "outputs": [],
   "source": [
    "y_train_categorical = to_categorical(y_train)\n",
    "y_test_categorical = to_categorical(y_test)"
   ]
  },
  {
   "cell_type": "code",
   "execution_count": 39,
   "metadata": {},
   "outputs": [],
   "source": [
    "#Create our deep learning model\n",
    "\n",
    "from tensorflow.keras.models import Sequential\n",
    "from tensorflow.keras.layers import Dense\n",
    "\n",
    "model = Sequential()\n",
    "model.add(Dense(units=100, activation='relu', input_dim=4))\n",
    "model.add(Dense(units=100, activation='relu'))\n",
    "model.add(Dense(units=2, activation='softmax'))"
   ]
  },
  {
   "cell_type": "code",
   "execution_count": 40,
   "metadata": {},
   "outputs": [
    {
     "name": "stdout",
     "output_type": "stream",
     "text": [
      "_________________________________________________________________\n",
      "Layer (type)                 Output Shape              Param #   \n",
      "=================================================================\n",
      "dense_21 (Dense)             (None, 100)               500       \n",
      "_________________________________________________________________\n",
      "dense_22 (Dense)             (None, 100)               10100     \n",
      "_________________________________________________________________\n",
      "dense_23 (Dense)             (None, 2)                 202       \n",
      "=================================================================\n",
      "Total params: 10,802\n",
      "Trainable params: 10,802\n",
      "Non-trainable params: 0\n",
      "_________________________________________________________________\n"
     ]
    }
   ],
   "source": [
    "#Compile and view Summary \n",
    "model.compile(optimizer='adam',\n",
    "              loss='categorical_crossentropy',\n",
    "              metrics=['accuracy'])\n",
    "\n",
    "model.summary()"
   ]
  },
  {
   "cell_type": "code",
   "execution_count": 41,
   "metadata": {},
   "outputs": [
    {
     "name": "stdout",
     "output_type": "stream",
     "text": [
      "Epoch 1/60\n",
      " - 1s - loss: 0.6317 - acc: 0.6346\n",
      "Epoch 2/60\n",
      " - 0s - loss: 0.5088 - acc: 0.7804\n",
      "Epoch 3/60\n",
      " - 0s - loss: 0.4078 - acc: 0.8503\n",
      "Epoch 4/60\n",
      " - 0s - loss: 0.3323 - acc: 0.8814\n",
      "Epoch 5/60\n",
      " - 0s - loss: 0.2643 - acc: 0.9135\n",
      "Epoch 6/60\n",
      " - 0s - loss: 0.2141 - acc: 0.9320\n",
      "Epoch 7/60\n",
      " - 0s - loss: 0.1617 - acc: 0.9553\n",
      "Epoch 8/60\n",
      " - 0s - loss: 0.1239 - acc: 0.9679\n",
      "Epoch 9/60\n",
      " - 0s - loss: 0.0993 - acc: 0.9776\n",
      "Epoch 10/60\n",
      " - 0s - loss: 0.0772 - acc: 0.9815\n",
      "Epoch 11/60\n",
      " - 0s - loss: 0.0679 - acc: 0.9845\n",
      "Epoch 12/60\n",
      " - 0s - loss: 0.0534 - acc: 0.9913\n",
      "Epoch 13/60\n",
      " - 0s - loss: 0.0471 - acc: 0.9913\n",
      "Epoch 14/60\n",
      " - 0s - loss: 0.0390 - acc: 0.9942\n",
      "Epoch 15/60\n",
      " - 0s - loss: 0.0348 - acc: 0.9932\n",
      "Epoch 16/60\n",
      " - 0s - loss: 0.0313 - acc: 0.9951\n",
      "Epoch 17/60\n",
      " - 0s - loss: 0.0277 - acc: 0.9951\n",
      "Epoch 18/60\n",
      " - 0s - loss: 0.0252 - acc: 0.9942\n",
      "Epoch 19/60\n",
      " - 0s - loss: 0.0259 - acc: 0.9951\n",
      "Epoch 20/60\n",
      " - 0s - loss: 0.0222 - acc: 0.9951\n",
      "Epoch 21/60\n",
      " - 0s - loss: 0.0195 - acc: 0.9961\n",
      "Epoch 22/60\n",
      " - 0s - loss: 0.0162 - acc: 0.9961\n",
      "Epoch 23/60\n",
      " - 0s - loss: 0.0181 - acc: 0.9951\n",
      "Epoch 24/60\n",
      " - 0s - loss: 0.0150 - acc: 0.9961\n",
      "Epoch 25/60\n",
      " - 0s - loss: 0.0142 - acc: 0.9961\n",
      "Epoch 26/60\n",
      " - 0s - loss: 0.0141 - acc: 0.9971\n",
      "Epoch 27/60\n",
      " - 0s - loss: 0.0121 - acc: 0.9971\n",
      "Epoch 28/60\n",
      " - 0s - loss: 0.0164 - acc: 0.9961\n",
      "Epoch 29/60\n",
      " - 0s - loss: 0.0107 - acc: 0.9981\n",
      "Epoch 30/60\n",
      " - 0s - loss: 0.0088 - acc: 0.9990\n",
      "Epoch 31/60\n",
      " - 0s - loss: 0.0083 - acc: 1.0000\n",
      "Epoch 32/60\n",
      " - 0s - loss: 0.0077 - acc: 1.0000\n",
      "Epoch 33/60\n",
      " - 0s - loss: 0.0072 - acc: 1.0000\n",
      "Epoch 34/60\n",
      " - 0s - loss: 0.0068 - acc: 1.0000\n",
      "Epoch 35/60\n",
      " - 0s - loss: 0.0063 - acc: 1.0000\n",
      "Epoch 36/60\n",
      " - 0s - loss: 0.0060 - acc: 1.0000\n",
      "Epoch 37/60\n",
      " - 0s - loss: 0.0066 - acc: 0.9990\n",
      "Epoch 38/60\n",
      " - 0s - loss: 0.0116 - acc: 0.9961\n",
      "Epoch 39/60\n",
      " - 0s - loss: 0.0068 - acc: 0.9990\n",
      "Epoch 40/60\n",
      " - 0s - loss: 0.0053 - acc: 0.9990\n",
      "Epoch 41/60\n",
      " - 0s - loss: 0.0046 - acc: 1.0000\n",
      "Epoch 42/60\n",
      " - 0s - loss: 0.0050 - acc: 1.0000\n",
      "Epoch 43/60\n",
      " - 0s - loss: 0.0038 - acc: 1.0000\n",
      "Epoch 44/60\n",
      " - 0s - loss: 0.0037 - acc: 1.0000\n",
      "Epoch 45/60\n",
      " - 0s - loss: 0.0038 - acc: 1.0000\n",
      "Epoch 46/60\n",
      " - 0s - loss: 0.0058 - acc: 1.0000\n",
      "Epoch 47/60\n",
      " - 0s - loss: 0.0033 - acc: 1.0000\n",
      "Epoch 48/60\n",
      " - 0s - loss: 0.0038 - acc: 1.0000\n",
      "Epoch 49/60\n",
      " - 0s - loss: 0.0029 - acc: 1.0000\n",
      "Epoch 50/60\n",
      " - 0s - loss: 0.0029 - acc: 1.0000\n",
      "Epoch 51/60\n",
      " - 0s - loss: 0.0030 - acc: 1.0000\n",
      "Epoch 52/60\n",
      " - 0s - loss: 0.0026 - acc: 1.0000\n",
      "Epoch 53/60\n",
      " - 0s - loss: 0.0024 - acc: 1.0000\n",
      "Epoch 54/60\n",
      " - 0s - loss: 0.0025 - acc: 1.0000\n",
      "Epoch 55/60\n",
      " - 0s - loss: 0.0028 - acc: 1.0000\n",
      "Epoch 56/60\n",
      " - 0s - loss: 0.0020 - acc: 1.0000\n",
      "Epoch 57/60\n",
      " - 0s - loss: 0.0021 - acc: 1.0000\n",
      "Epoch 58/60\n",
      " - 0s - loss: 0.0020 - acc: 1.0000\n",
      "Epoch 59/60\n",
      " - 0s - loss: 0.0020 - acc: 1.0000\n",
      "Epoch 60/60\n",
      " - 0s - loss: 0.0018 - acc: 1.0000\n"
     ]
    },
    {
     "data": {
      "text/plain": [
       "<tensorflow.python.keras.callbacks.History at 0x2285ee69160>"
      ]
     },
     "execution_count": 41,
     "metadata": {},
     "output_type": "execute_result"
    }
   ],
   "source": [
    "#Fit model with training data\n",
    "\n",
    "model.fit(\n",
    "    X_train_scaled,\n",
    "    y_train_categorical,\n",
    "    epochs=60,\n",
    "    shuffle=True,\n",
    "    verbose=2\n",
    ")"
   ]
  },
  {
   "cell_type": "code",
   "execution_count": 42,
   "metadata": {},
   "outputs": [
    {
     "name": "stdout",
     "output_type": "stream",
     "text": [
      "This Tensorflow Sequential model has a loss of: 0.001632850055160943, and a accuracy of: 1.0\n"
     ]
    }
   ],
   "source": [
    "#Evaluate testing data\n",
    "loss,accuracy = model.evaluate(X_test_scaled, y_test_categorical, verbose=2)\n",
    "print(f\"This Tensorflow Sequential model has a loss of: {loss}, and a accuracy of: {accuracy}\")"
   ]
  },
  {
   "cell_type": "code",
   "execution_count": 47,
   "metadata": {},
   "outputs": [
    {
     "name": "stdout",
     "output_type": "stream",
     "text": [
      "Model Predicted Classes: [0 0 1 0 0 0 0 0 1 1 1 1 0 0 0]\n",
      "Actual Classes: [0, 0, 1, 0, 0, 0, 0, 0, 1, 1, 1, 1, 0, 0, 0]\n"
     ]
    }
   ],
   "source": [
    "testing_predictions = model.predict_classes(X_test_scaled[:15])\n",
    "#labels = label_encoder.inverse_transform(testing_predictions)\n",
    "\n",
    "\n",
    "print(f\"Model Predicted Classes: {testing_predictions}\")\n",
    "print(f\"Actual Classes: {list(y_test[:15])}\")"
   ]
  },
  {
   "cell_type": "code",
   "execution_count": 49,
   "metadata": {},
   "outputs": [],
   "source": [
    "#Thisdeep learning model is nearly perfect at predicting if a banknote is Real(1) or Fake(0).\n",
    "# It has a loss of 0.001632850055160943, and a accuracy of 1.0 wich is 100% accuracy!"
   ]
  },
  {
   "cell_type": "code",
   "execution_count": null,
   "metadata": {},
   "outputs": [],
   "source": []
  }
 ],
 "metadata": {
  "kernelspec": {
   "display_name": "Python 3",
   "language": "python",
   "name": "python3"
  },
  "language_info": {
   "codemirror_mode": {
    "name": "ipython",
    "version": 3
   },
   "file_extension": ".py",
   "mimetype": "text/x-python",
   "name": "python",
   "nbconvert_exporter": "python",
   "pygments_lexer": "ipython3",
   "version": "3.6.6"
  }
 },
 "nbformat": 4,
 "nbformat_minor": 2
}
